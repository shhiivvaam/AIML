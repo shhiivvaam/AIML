{
  "cells": [
    {
      "cell_type": "code",
      "execution_count": null,
      "metadata": {
        "id": "eFnKsXwmkDdD"
      },
      "outputs": [],
      "source": [
        "from random import randint\n",
        "N = 4"
      ]
    },
    {
      "cell_type": "code",
      "execution_count": null,
      "metadata": {
        "id": "hlJirYfKkMYM"
      },
      "outputs": [],
      "source": [
        "def configureRandomly(board , state):\n",
        "  for i in range(N):\n",
        "    state[i] = randint(0,100000) % N\n",
        "    board[state[i]][i] = 1"
      ]
    },
    {
      "cell_type": "code",
      "execution_count": null,
      "metadata": {
        "colab": {
          "base_uri": "https://localhost:8080/"
        },
        "id": "rhZ7aGHRlSQf",
        "outputId": "928bf0cf-5c54-4e24-87be-c70a61e9a6e8"
      },
      "outputs": [
        {
          "name": "stdout",
          "output_type": "stream",
          "text": [
            "0 0 0 0\n",
            "[0, 0, 0, 0] [0, 0, 0, 0] [0, 0, 0, 0] [0, 0, 0, 0]\n"
          ]
        }
      ],
      "source": [
        "state = [0 for _ in range(N)]\n",
        "board=[[0 for _ in range(N)] for _ in  range(N)]\n",
        "print(*state)\n",
        "print(*board)"
      ]
    },
    {
      "cell_type": "code",
      "execution_count": null,
      "metadata": {
        "colab": {
          "base_uri": "https://localhost:8080/"
        },
        "id": "SGVAgNXulwDq",
        "outputId": "18ee8e3c-330e-480e-c15d-33d6385f79a3"
      },
      "outputs": [
        {
          "name": "stdout",
          "output_type": "stream",
          "text": [
            "2 1 0 2\n",
            "[0, 0, 1, 0] [0, 1, 0, 0] [1, 0, 0, 1] [0, 0, 0, 0]\n"
          ]
        }
      ],
      "source": [
        "configureRandomly(board,state)\n",
        "print(*state)\n",
        "print(*board)"
      ]
    },
    {
      "cell_type": "code",
      "execution_count": null,
      "metadata": {
        "id": "x1o0xwgrmxo_"
      },
      "outputs": [],
      "source": [
        "def CalculateObjective(board,state):\n",
        "  # 1st left\n",
        "  attacking = 0\n",
        "  for i in range(N):\n",
        "    row = state[i]\n",
        "    col = i-1\n",
        "  while(col>=0 and board[row][col] != 1):\n",
        "    col -= 1\n",
        "  if(col >= 0 and board[row][col] == 1):\n",
        "    attacking += 1\n",
        "\n",
        "  # 2nd right\n",
        "    row = state[i]\n",
        "    col = i+1\n",
        "  while(col<N and board[row][col] != 1):\n",
        "    col += 1\n",
        "  if(col < N and board[row][col] == 1):\n",
        "    attacking += 1\n",
        "\n",
        "  # 3rd digonal(bottom right)\n",
        "    row = state[i] + 1\n",
        "    col = i+1\n",
        "  while(col < N and row < N and board[row][col] != 1):\n",
        "    col += 1\n",
        "    row += 1\n",
        "  if(col < N and row < N and board[row][col] == 1):\n",
        "    attacking += 1\n",
        "\n",
        "    # 4th\n",
        "    row = state[i] + 1\n",
        "    col = i+1\n",
        "  while(col < N and row < N and board[row][col] != 1):\n",
        "    col += 1\n",
        "    row += 1\n",
        "  if(col < N and row < N and board[row][col] == 1):\n",
        "    attacking += 1\n",
        "\n",
        "    \n",
        "    # 5th\n",
        "    row = state[i] -1 \n",
        "    col = i+1\n",
        "  while(col < N and row < N and board[row][col] != 1):\n",
        "    col -= 1\n",
        "    row += 1\n",
        "  if(col < N and row < N and board[row][col] == 1):\n",
        "    attacking += 1\n",
        "  return int(attacking/2)"
      ]
    },
    {
      "cell_type": "code",
      "execution_count": null,
      "metadata": {
        "id": "KtQzTUtRrgns"
      },
      "outputs": [],
      "source": [
        "def fill(board , value):\n",
        "  for i in range(N):\n",
        "    for j in range(N):\n",
        "      board[i][j] = value"
      ]
    },
    {
      "cell_type": "code",
      "execution_count": null,
      "metadata": {
        "id": "BgJZye-UoBgZ"
      },
      "outputs": [],
      "source": [
        "def generateBoard(board , state):\n",
        "  fill(board , 0)\n",
        "  for i in range(N):\n",
        "    board[state[i]][i] = 1"
      ]
    },
    {
      "cell_type": "code",
      "execution_count": null,
      "metadata": {
        "id": "N0RKSe0Grt9f"
      },
      "outputs": [],
      "source": [
        "def copy(state1 , state2):\n",
        "  for i in range(N):\n",
        "    state1[i] = state2[i]"
      ]
    },
    {
      "cell_type": "code",
      "execution_count": null,
      "metadata": {
        "id": "Tf7r5WLGsDIs"
      },
      "outputs": [],
      "source": [
        "def comprise(state1 , state2):\n",
        "  for i in range(N):\n",
        "    if(state1[i] != state2[i]):\n",
        "      return False\n",
        "  return True"
      ]
    },
    {
      "cell_type": "code",
      "execution_count": null,
      "metadata": {
        "id": "NBvQ4tkbsYSR"
      },
      "outputs": [],
      "source": [
        "def getneighbour(board , state):\n",
        "  opnbhboard = [[0 for _ in range(N)] for _ in range(N)]\n",
        "  opnbhstate = [0 for _ in range(N)]\n",
        "  copy(opnbhstate , state)\n",
        "  generateBoard(opnbhboard , opnbhstate)\n",
        "  opobj = CalculateObjective(opnbhboard , opnbhstate)\n",
        "  \n",
        "  \n",
        "  nbhboard = [[0 for _ in range(N)] for _ in range(N)]\n",
        "  nbhstate = [0 for _ in range(N)]\n",
        "  copy(nbhstate , state)\n",
        "  generateBoard(nbhboard , nbhstate)\n",
        "  opobj = CalculateObjective(nbhboard , nbhstate)"
      ]
    },
    {
      "cell_type": "code",
      "execution_count": 12,
      "metadata": {
        "colab": {
          "base_uri": "https://localhost:8080/",
          "height": 235
        },
        "id": "eRlgqndNvGJv",
        "outputId": "3d036256-afef-424e-ee85-8769114ca0cb"
      },
      "outputs": [
        {
          "ename": "NameError",
          "evalue": "ignored",
          "output_type": "error",
          "traceback": [
            "\u001b[0;31m---------------------------------------------------------------------------\u001b[0m",
            "\u001b[0;31mNameError\u001b[0m                                 Traceback (most recent call last)",
            "\u001b[0;32m<ipython-input-12-df5e9a3126ba>\u001b[0m in \u001b[0;36m<cell line: 1>\u001b[0;34m()\u001b[0m\n\u001b[1;32m      2\u001b[0m   \u001b[0;32mfor\u001b[0m \u001b[0mj\u001b[0m \u001b[0;32min\u001b[0m \u001b[0mrange\u001b[0m\u001b[0;34m(\u001b[0m\u001b[0mN\u001b[0m\u001b[0;34m)\u001b[0m\u001b[0;34m:\u001b[0m\u001b[0;34m\u001b[0m\u001b[0;34m\u001b[0m\u001b[0m\n\u001b[1;32m      3\u001b[0m     \u001b[0;32mif\u001b[0m\u001b[0;34m(\u001b[0m\u001b[0mj\u001b[0m\u001b[0;34m!=\u001b[0m\u001b[0mstate\u001b[0m\u001b[0;34m[\u001b[0m\u001b[0mi\u001b[0m\u001b[0;34m]\u001b[0m\u001b[0;34m)\u001b[0m\u001b[0;34m:\u001b[0m\u001b[0;34m\u001b[0m\u001b[0;34m\u001b[0m\u001b[0m\n\u001b[0;32m----> 4\u001b[0;31m       \u001b[0mnbhstate\u001b[0m\u001b[0;34m[\u001b[0m\u001b[0mi\u001b[0m\u001b[0;34m]\u001b[0m \u001b[0;34m=\u001b[0m \u001b[0mj\u001b[0m\u001b[0;34m\u001b[0m\u001b[0;34m\u001b[0m\u001b[0m\n\u001b[0m\u001b[1;32m      5\u001b[0m       \u001b[0mnbhboard\u001b[0m\u001b[0;34m[\u001b[0m\u001b[0mnbhstate\u001b[0m\u001b[0;34m[\u001b[0m\u001b[0mi\u001b[0m\u001b[0;34m]\u001b[0m\u001b[0;34m]\u001b[0m\u001b[0;34m[\u001b[0m\u001b[0mi\u001b[0m\u001b[0;34m]\u001b[0m \u001b[0;34m=\u001b[0m \u001b[0;36m1\u001b[0m\u001b[0;34m\u001b[0m\u001b[0;34m\u001b[0m\u001b[0m\n\u001b[1;32m      6\u001b[0m       \u001b[0mnbhboard\u001b[0m\u001b[0;34m[\u001b[0m\u001b[0mstate\u001b[0m\u001b[0;34m[\u001b[0m\u001b[0mi\u001b[0m\u001b[0;34m]\u001b[0m\u001b[0;34m]\u001b[0m\u001b[0;34m[\u001b[0m\u001b[0mi\u001b[0m\u001b[0;34m]\u001b[0m \u001b[0;34m=\u001b[0m \u001b[0;36m0\u001b[0m\u001b[0;34m\u001b[0m\u001b[0;34m\u001b[0m\u001b[0m\n",
            "\u001b[0;31mNameError\u001b[0m: name 'nbhstate' is not defined"
          ]
        }
      ],
      "source": [
        "\n",
        "for i in range(N):\n",
        "  for j in range(N):\n",
        "    if(j!=state[i]):\n",
        "       nbhboard[i] = j\n",
        "      nbhboard[nbhstate[i]][i] = 1\n",
        "      nbhboard[state[i]][i] = 0\n",
        "      temp = Calculateobjective(nbhboard , nbhstate)\n",
        "      if(temp<=opobj):\n",
        "        opobj = temp\n",
        "        calculateobjective(opstate , Nbhstate)\n",
        "        generateboard(opboard , opstate)\n",
        "      nbhstate[i] = state[i]\n",
        "      nbhboard[nbhstate[i]][i] = 0\n",
        "      nbhboard[state[i]][i] = 1\n",
        "        \n"
      ]
    }
  ],
  "metadata": {
    "colab": {
      "provenance": []
    },
    "kernelspec": {
      "display_name": "Python 3",
      "name": "python3"
    },
    "language_info": {
      "name": "python"
    }
  },
  "nbformat": 4,
  "nbformat_minor": 0
}
